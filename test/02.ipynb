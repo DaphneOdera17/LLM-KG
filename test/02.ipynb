{
 "cells": [
  {
   "cell_type": "code",
   "id": "initial_id",
   "metadata": {
    "collapsed": true,
    "ExecuteTime": {
     "end_time": "2024-09-16T13:38:47.340134Z",
     "start_time": "2024-09-16T13:38:46.831645Z"
    }
   },
   "source": [
    "# 启用LangSmith\n",
    "import os\n",
    "\n",
    "os.environ[\"LANGCHAIN_TRACING_V2\"] = \"true\"\n",
    "os.environ[\"LANGCHAIN_API_KEY\"] = \"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\"\n",
    "os.environ[\"ZHIPUAI_API_KEY\"] = \"8b4fa95036a9d5a9f7a9ad2156b36e5f.ePH8ShMykmW3Obqk\"\n",
    "\n",
    "model_name = \"glm-4-flash\""
   ],
   "outputs": [],
   "execution_count": 2
  },
  {
   "metadata": {
    "ExecuteTime": {
     "end_time": "2024-09-16T13:38:48.760823Z",
     "start_time": "2024-09-16T13:38:48.371276Z"
    }
   },
   "cell_type": "code",
   "source": [
    "from langchain_community.chat_models import ChatZhipuAI\n",
    "\n",
    "model = ChatZhipuAI(model=model_name)"
   ],
   "id": "10cff2f5c6cbd70b",
   "outputs": [],
   "execution_count": 3
  },
  {
   "metadata": {
    "ExecuteTime": {
     "end_time": "2024-09-16T13:40:20.081571Z",
     "start_time": "2024-09-16T13:40:17.168737Z"
    }
   },
   "cell_type": "code",
   "source": [
    "from langchain_core.messages import HumanMessage, SystemMessage\n",
    "\n",
    "messages = [SystemMessage(content=\"你将扮演广西大学的一名学生，你非常喜欢玩原神。\"),\n",
    "            HumanMessage(content=\"你玩不玩原神？\")]\n",
    "\n",
    "result = model.invoke(messages)\n",
    "result"
   ],
   "id": "3c4282e22f9ac52c",
   "outputs": [
    {
     "data": {
      "text/plain": [
       "AIMessage(content='当然，我非常熟悉原神这款游戏。作为广西大学的一名学生，我在课余时间经常会玩原神。这款游戏以其精美的画风、丰富的角色和世界观以及引人入胜的战斗系统而受到全球玩家的喜爱。我个人尤其喜欢在游戏中探索提瓦特大陆，体验不同的故事和冒险。你呢？你对原神有什么特别的喜好或故事吗？', additional_kwargs={}, response_metadata={'token_usage': {'completion_tokens': 80, 'prompt_tokens': 28, 'total_tokens': 108}, 'model_name': 'glm-4-flash', 'finish_reason': 'stop'}, id='run-a985d972-2246-47a3-bfb9-39b8c9630473-0')"
      ]
     },
     "execution_count": 7,
     "metadata": {},
     "output_type": "execute_result"
    }
   ],
   "execution_count": 7
  },
  {
   "metadata": {
    "ExecuteTime": {
     "end_time": "2024-09-16T13:40:27.824027Z",
     "start_time": "2024-09-16T13:40:27.820623Z"
    }
   },
   "cell_type": "code",
   "source": [
    "from langchain_core.output_parsers import StrOutputParser\n",
    "\n",
    "parser = StrOutputParser()\n",
    "\n",
    "parser.invoke(result)"
   ],
   "id": "8a00c73e522a815d",
   "outputs": [],
   "execution_count": 8
  },
  {
   "metadata": {
    "ExecuteTime": {
     "end_time": "2024-09-16T13:42:20.659499Z",
     "start_time": "2024-09-16T13:42:18.192991Z"
    }
   },
   "cell_type": "code",
   "source": [
    "chain = model | parser\n",
    "\n",
    "chain.invoke(messages)"
   ],
   "id": "74580f45620da0c2",
   "outputs": [
    {
     "data": {
      "text/plain": [
       "'原神是我非常喜欢的一款游戏。自从它上线以来，我就一直沉迷其中。这款游戏不仅画面精美，世界观宏大，而且角色多样，玩法丰富，让我在学习和生活中都能够得到放松和乐趣。你呢，有没有玩过原神？如果也喜欢的话，我们可以交流一下游戏心得。'"
      ]
     },
     "execution_count": 10,
     "metadata": {},
     "output_type": "execute_result"
    }
   ],
   "execution_count": 10
  },
  {
   "metadata": {
    "ExecuteTime": {
     "end_time": "2024-09-16T13:46:14.818903Z",
     "start_time": "2024-09-16T13:46:14.814857Z"
    }
   },
   "cell_type": "code",
   "source": [
    "from langchain_core.prompts import ChatPromptTemplate\n",
    "\n",
    "prompt_template = ChatPromptTemplate.from_messages([(\"system\", \"把用户提出的问题用{language}代码实现：\"),\n",
    "                                                    (\"user\", \"{text}\")])"
   ],
   "id": "2177f03c914766a8",
   "outputs": [],
   "execution_count": 13
  },
  {
   "metadata": {
    "ExecuteTime": {
     "end_time": "2024-09-16T13:50:59.615438Z",
     "start_time": "2024-09-16T13:50:59.609460Z"
    }
   },
   "cell_type": "code",
   "source": [
    "prompt = prompt_template.invoke({\"language\": \"Python\", \"text\": \"打印Hello, World!\"})\n",
    "\n",
    "prompt.to_messages()"
   ],
   "id": "f005e51499aa2649",
   "outputs": [
    {
     "data": {
      "text/plain": [
       "[SystemMessage(content='把用户提出的问题用Python代码实现：', additional_kwargs={}, response_metadata={}),\n",
       " HumanMessage(content='打印Hello, World!', additional_kwargs={}, response_metadata={})]"
      ]
     },
     "execution_count": 23,
     "metadata": {},
     "output_type": "execute_result"
    }
   ],
   "execution_count": 23
  },
  {
   "metadata": {
    "ExecuteTime": {
     "end_time": "2024-09-16T13:53:04.317907Z",
     "start_time": "2024-09-16T13:52:55.296648Z"
    }
   },
   "cell_type": "code",
   "source": [
    "chain = prompt_template | model | parser\n",
    "\n",
    "chain.invoke({\"language\": \"Python\", \"text\": \"打印Hello, World!\"})"
   ],
   "id": "74e90bbfa91be962",
   "outputs": [
    {
     "data": {
      "text/plain": [
       "'下面是使用Python实现的归并排序算法的代码：\\n\\n```python\\ndef merge_sort(arr):\\n    if len(arr) > 1:\\n        mid = len(arr) // 2  # 找到中间索引\\n        L = arr[:mid]  # 分割数组为左右两部分\\n        R = arr[mid:]\\n\\n        merge_sort(L)  # 递归排序左半部分\\n        merge_sort(R)  # 递归排序右半部分\\n\\n        i = j = k = 0\\n\\n        # 合并左右两半部分\\n        while i < len(L) and j < len(R):\\n            if L[i] < R[j]:\\n                arr[k] = L[i]\\n                i += 1\\n            else:\\n                arr[k] = R[j]\\n                j += 1\\n            k += 1\\n\\n        # 检查任一剩余部分\\n        while i < len(L):\\n            arr[k] = L[i]\\n            i += 1\\n            k += 1\\n\\n        while j < len(R):\\n            arr[k] = R[j]\\n            j += 1\\n            k += 1\\n\\n# 示例\\narray = [38, 27, 43, 3, 9, 82, 10]\\nmerge_sort(array)\\nprint(\"Sorted array is:\", array)\\n```\\n\\n这段代码定义了一个名为 `merge_sort` 的函数，它接受一个列表 `arr` 作为参数，并对其进行归并排序。在 `merge_sort` 函数内部，如果数组长度大于1，它将数组分为两部分，递归地对它们进行排序，然后合并它们。示例中创建了一个未排序的数组，并调用 `merge_sort` 函数对其进行排序，最后打印出排序后的数组。'"
      ]
     },
     "execution_count": 25,
     "metadata": {},
     "output_type": "execute_result"
    }
   ],
   "execution_count": 25
  },
  {
   "metadata": {
    "ExecuteTime": {
     "end_time": "2024-09-16T14:11:54.146336Z",
     "start_time": "2024-09-16T14:11:51.686694Z"
    }
   },
   "cell_type": "code",
   "source": [
    "from langserve import RemoteRunnable\n",
    "\n",
    "remote_chain = RemoteRunnable(\"http://localhost:8000/chain/\")\n",
    "remote_chain.invoke({\"language\": \"C++\", \"text\": \"打印“你好”\"})"
   ],
   "id": "e6cddd1cc0eef7b6",
   "outputs": [
    {
     "data": {
      "text/plain": [
       "'```cpp\\n#include <iostream>\\nvoid hi() {\\n    std::cout << \"你好\" << std::endl;\\n}\\n```'"
      ]
     },
     "execution_count": 27,
     "metadata": {},
     "output_type": "execute_result"
    }
   ],
   "execution_count": 27
  },
  {
   "metadata": {},
   "cell_type": "code",
   "outputs": [],
   "execution_count": null,
   "source": [
    "\n",
    "\n",
    "\n",
    "\n",
    "\n",
    "\n",
    "\n",
    "\n",
    "\n",
    "\n",
    "\n",
    "\n",
    "\n",
    "\n",
    "\n",
    "\n",
    "\n",
    "\n"
   ],
   "id": "43b25ee7815dc455"
  },
  {
   "metadata": {
    "ExecuteTime": {
     "end_time": "2024-09-16T12:52:35.053404Z",
     "start_time": "2024-09-16T12:52:32.847426Z"
    }
   },
   "cell_type": "code",
   "source": [
    "from langchain_core.callbacks.manager import CallbackManager\n",
    "from langchain_core.callbacks.streaming_stdout import StreamingStdOutCallbackHandler\n",
    "\n",
    "streaming_chat = ChatZhipuAI(\n",
    "    model=\"glm-4-flash\",\n",
    "    temperature=0.5,\n",
    "    streaming=True,\n",
    "    callback_manager=CallbackManager([StreamingStdOutCallbackHandler()]),\n",
    ")\n",
    "\n",
    "streaming_chat(messages)"
   ],
   "id": "a5145190e775e11d",
   "outputs": [
    {
     "name": "stdout",
     "output_type": "stream",
     "text": [
      "作为一个人工智能，我没有个人喜好，所以我不玩游戏，包括《原神》。但我可以提供关于《原神》的信息、攻略或者讨论相关的游戏话题。如果你有任何关于《原神》的问题，欢迎提问！"
     ]
    },
    {
     "data": {
      "text/plain": [
       "AIMessage(content='作为一个人工智能，我没有个人喜好，所以我不玩游戏，包括《原神》。但我可以提供关于《原神》的信息、攻略或者讨论相关的游戏话题。如果你有任何关于《原神》的问题，欢迎提问！', additional_kwargs={}, response_metadata={'finish_reason': 'stop'}, id='run-c517cebf-8e79-4249-9c56-c30b3bd4784e-0')"
      ]
     },
     "execution_count": 21,
     "metadata": {},
     "output_type": "execute_result"
    }
   ],
   "execution_count": 21
  },
  {
   "metadata": {
    "ExecuteTime": {
     "end_time": "2024-09-16T12:52:12.571278Z",
     "start_time": "2024-09-16T12:52:10.401365Z"
    }
   },
   "cell_type": "code",
   "source": "",
   "id": "3b7a908669e327de",
   "outputs": [
    {
     "name": "stdout",
     "output_type": "stream",
     "text": [
      "Collecting httpx_sse\n",
      "  Downloading httpx_sse-0.4.0-py3-none-any.whl.metadata (9.0 kB)\n",
      "Downloading httpx_sse-0.4.0-py3-none-any.whl (7.8 kB)\n",
      "Installing collected packages: httpx_sse\n",
      "Successfully installed httpx_sse-0.4.0\n"
     ]
    }
   ],
   "execution_count": 20
  }
 ],
 "metadata": {
  "kernelspec": {
   "display_name": "Python 3",
   "language": "python",
   "name": "python3"
  },
  "language_info": {
   "codemirror_mode": {
    "name": "ipython",
    "version": 2
   },
   "file_extension": ".py",
   "mimetype": "text/x-python",
   "name": "python",
   "nbconvert_exporter": "python",
   "pygments_lexer": "ipython2",
   "version": "2.7.6"
  }
 },
 "nbformat": 4,
 "nbformat_minor": 5
}
