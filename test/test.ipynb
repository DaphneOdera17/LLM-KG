{
 "cells": [
  {
   "cell_type": "code",
   "id": "initial_id",
   "metadata": {
    "collapsed": true,
    "ExecuteTime": {
     "end_time": "2024-09-16T16:05:53.767246Z",
     "start_time": "2024-09-16T16:05:53.762797Z"
    }
   },
   "source": [
    "import os\n",
    "\n",
    "os.environ[\"LANGCHAIN_TRACING_V2\"] = \"true\"\n",
    "os.environ[\"LANGCHAIN_API_KEY\"] = \"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\"\n",
    "os.environ[\"ZHIPUAI_API_KEY\"] = \"8b4fa95036a9d5a9f7a9ad2156b36e5f.ePH8ShMykmW3Obqk\""
   ],
   "outputs": [],
   "execution_count": 94
  },
  {
   "metadata": {
    "ExecuteTime": {
     "end_time": "2024-09-16T16:05:53.808576Z",
     "start_time": "2024-09-16T16:05:53.805493Z"
    }
   },
   "cell_type": "code",
   "source": [
    "from langchain_community.chat_models import ChatZhipuAI\n",
    "\n",
    "model = ChatZhipuAI(name='glm-4-flash')"
   ],
   "id": "a4fe2affbbbdd2b5",
   "outputs": [],
   "execution_count": 95
  },
  {
   "metadata": {
    "ExecuteTime": {
     "end_time": "2024-09-16T16:05:53.815087Z",
     "start_time": "2024-09-16T16:05:53.811596Z"
    }
   },
   "cell_type": "code",
   "source": [
    "from langchain_core.chat_history import BaseChatMessageHistory, InMemoryChatMessageHistory\n",
    "\n",
    "# 存储所有对话内容\n",
    "store = {}\n",
    "\n",
    "def get_session_history(session_id: str) -> BaseChatMessageHistory:\n",
    "    if session_id not in store:\n",
    "        store[session_id] = InMemoryChatMessageHistory()\n",
    "    return store[session_id]"
   ],
   "id": "bd3d163377c3b68c",
   "outputs": [],
   "execution_count": 96
  },
  {
   "metadata": {
    "ExecuteTime": {
     "end_time": "2024-09-16T16:05:53.825298Z",
     "start_time": "2024-09-16T16:05:53.822281Z"
    }
   },
   "cell_type": "code",
   "source": "from langchain_core.messages import SystemMessage, HumanMessage, AIMessage",
   "id": "50b5e75a4032952",
   "outputs": [],
   "execution_count": 97
  },
  {
   "metadata": {
    "ExecuteTime": {
     "end_time": "2024-09-16T16:05:53.837067Z",
     "start_time": "2024-09-16T16:05:53.832745Z"
    }
   },
   "cell_type": "code",
   "source": [
    "from langchain_core.prompts import ChatPromptTemplate, MessagesPlaceholder\n",
    "\n",
    "prompt = ChatPromptTemplate.from_messages([(\"system\", \"你是一个有关{species}的农业问答助手，\"\n",
    "                                                      \"请你利用所学知识生成准确科学的答案。\"),\n",
    "                                           MessagesPlaceholder(variable_name=\"messages\"), ])\n",
    "\n",
    "chain = prompt | model"
   ],
   "id": "8e60962cbfe93819",
   "outputs": [],
   "execution_count": 98
  },
  {
   "metadata": {
    "ExecuteTime": {
     "end_time": "2024-09-16T16:05:53.845654Z",
     "start_time": "2024-09-16T16:05:53.843649Z"
    }
   },
   "cell_type": "code",
   "source": "",
   "id": "83b03007af32433",
   "outputs": [],
   "execution_count": null
  },
  {
   "metadata": {
    "ExecuteTime": {
     "end_time": "2024-09-16T16:05:53.856845Z",
     "start_time": "2024-09-16T16:05:53.852855Z"
    }
   },
   "cell_type": "code",
   "source": [
    "from langchain_core.messages import trim_messages\n",
    "\n",
    "trimmer = trim_messages(max_tokens=2000,\n",
    "                        strategy=\"last\",\n",
    "                        token_counter=model,\n",
    "                        include_system=True,\n",
    "                        allow_partial=False,\n",
    "                        start_on=\"human\")"
   ],
   "id": "e055b4b6f7627759",
   "outputs": [],
   "execution_count": 99
  },
  {
   "metadata": {
    "ExecuteTime": {
     "end_time": "2024-09-16T16:05:53.867288Z",
     "start_time": "2024-09-16T16:05:53.864439Z"
    }
   },
   "cell_type": "code",
   "source": [
    "from operator import itemgetter\n",
    "from langchain_core.runnables import RunnablePassthrough\n",
    "\n",
    "trimmer = RunnablePassthrough.assign(messages=itemgetter(\"messages\") | trimmer)\n",
    "\n",
    "chain = trimmer | prompt | model"
   ],
   "id": "4911f3fa3f6d449e",
   "outputs": [],
   "execution_count": 100
  },
  {
   "metadata": {
    "ExecuteTime": {
     "end_time": "2024-09-16T16:05:53.901585Z",
     "start_time": "2024-09-16T16:05:53.898901Z"
    }
   },
   "cell_type": "code",
   "source": [
    "from langchain_core.runnables.history import RunnableWithMessageHistory\n",
    "\n",
    "bot = RunnableWithMessageHistory(chain, get_session_history, input_messages_key=\"messages\")"
   ],
   "id": "6e74454923afaa86",
   "outputs": [],
   "execution_count": 101
  },
  {
   "metadata": {
    "ExecuteTime": {
     "end_time": "2024-09-16T16:05:53.906716Z",
     "start_time": "2024-09-16T16:05:53.903592Z"
    }
   },
   "cell_type": "code",
   "source": "config = {\"configurable\": {\"session_id\": \"abc1\"}}",
   "id": "d3919510af20cae8",
   "outputs": [],
   "execution_count": 102
  },
  {
   "metadata": {
    "ExecuteTime": {
     "end_time": "2024-09-16T16:05:53.916328Z",
     "start_time": "2024-09-16T16:05:53.914226Z"
    }
   },
   "cell_type": "code",
   "source": [
    "input = {\"messages\": [HumanMessage(content=\"你好！\")],\n",
    "         \"species\": \"核桃\"}"
   ],
   "id": "3f2874d018005774",
   "outputs": [],
   "execution_count": 103
  },
  {
   "metadata": {
    "ExecuteTime": {
     "end_time": "2024-09-16T16:06:10.087764Z",
     "start_time": "2024-09-16T16:06:08.250895Z"
    }
   },
   "cell_type": "code",
   "source": [
    "for output in bot.stream(input, config=config):\n",
    "    print(output.content, end='')"
   ],
   "id": "aeb57e1add5dff10",
   "outputs": [
    {
     "name": "stdout",
     "output_type": "stream",
     "text": [
      "你好！很高兴能帮助你解答关于核桃的任何问题。如果你有任何疑问或需要咨询的信息，请随时告诉我。"
     ]
    }
   ],
   "execution_count": 105
  }
 ],
 "metadata": {
  "kernelspec": {
   "display_name": "Python 3",
   "language": "python",
   "name": "python3"
  },
  "language_info": {
   "codemirror_mode": {
    "name": "ipython",
    "version": 2
   },
   "file_extension": ".py",
   "mimetype": "text/x-python",
   "name": "python",
   "nbconvert_exporter": "python",
   "pygments_lexer": "ipython2",
   "version": "2.7.6"
  }
 },
 "nbformat": 4,
 "nbformat_minor": 5
}
