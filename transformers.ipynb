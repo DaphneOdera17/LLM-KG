{
 "cells": [
  {
   "cell_type": "code",
   "id": "initial_id",
   "metadata": {
    "collapsed": true,
    "ExecuteTime": {
     "end_time": "2024-09-15T23:25:28.101792Z",
     "start_time": "2024-09-15T23:25:24.189591Z"
    }
   },
   "source": [
    "import torch\n",
    "from transformers import pipeline"
   ],
   "outputs": [],
   "execution_count": 4
  },
  {
   "metadata": {
    "ExecuteTime": {
     "end_time": "2024-09-15T23:14:11.699284Z",
     "start_time": "2024-09-15T23:14:10.512206Z"
    }
   },
   "cell_type": "code",
   "source": [
    "classifier = pipeline(task=\"sentiment-analysis\",\n",
    "                      model=\"distilbert/distilbert-base-uncased-finetuned-sst-2-english\",\n",
    "                      device=torch.device(\"cuda\"))"
   ],
   "id": "b91e7e8410207958",
   "outputs": [
    {
     "data": {
      "text/plain": [
       "[{'label': 'POSITIVE', 'score': 0.9997795224189758}]"
      ]
     },
     "execution_count": 20,
     "metadata": {},
     "output_type": "execute_result"
    }
   ],
   "execution_count": 20
  },
  {
   "metadata": {
    "ExecuteTime": {
     "end_time": "2024-09-15T23:14:18.725370Z",
     "start_time": "2024-09-15T23:14:18.700803Z"
    }
   },
   "cell_type": "code",
   "source": "classifier(\"We are very happy to show you the 🤗 Transformers library.\")",
   "id": "d45cb45741903d60",
   "outputs": [
    {
     "data": {
      "text/plain": [
       "[{'label': 'POSITIVE', 'score': 0.9997795224189758}]"
      ]
     },
     "execution_count": 21,
     "metadata": {},
     "output_type": "execute_result"
    }
   ],
   "execution_count": 21
  },
  {
   "metadata": {
    "ExecuteTime": {
     "end_time": "2024-09-15T23:16:09.408987Z",
     "start_time": "2024-09-15T23:16:09.357165Z"
    }
   },
   "cell_type": "code",
   "source": [
    "results = classifier([\"We are very happy to show you the 🤗 Transformers library.\",\n",
    "                      \"We hope you don't hate it.\"])\n",
    "\n",
    "for result in results:\n",
    "    print(f\"label: {result['label']}, with score: {round(result['score'], 4)}\")"
   ],
   "id": "ed402964ecb68869",
   "outputs": [
    {
     "name": "stdout",
     "output_type": "stream",
     "text": [
      "label: POSITIVE, with score: 0.9998\n",
      "label: NEGATIVE, with score: 0.5309\n"
     ]
    }
   ],
   "execution_count": 22
  },
  {
   "metadata": {},
   "cell_type": "code",
   "source": [
    "speech_recognizer = pipeline(task=\"automatic-speech-recognition\",\n",
    "                             model=\"facebook/wav2vec2-base-960h\",\n",
    "                             device=torch.device(\"cuda\"))"
   ],
   "id": "172cda90dde4ac94",
   "outputs": [],
   "execution_count": null
  },
  {
   "metadata": {
    "ExecuteTime": {
     "end_time": "2024-09-15T23:21:24.969965Z",
     "start_time": "2024-09-15T23:21:23.152890Z"
    }
   },
   "cell_type": "code",
   "source": [
    "from datasets import load_dataset, Audio\n",
    "\n",
    "dataset = load_dataset(\"PolyAI/minds14\", name=\"en-US\", split=\"train\")\n",
    "dataset = dataset.cast_column(\"audio\", Audio(sampling_rate=speech_recognizer.feature_extractor.sampling_rate))"
   ],
   "id": "f8ccfa56947b6194",
   "outputs": [],
   "execution_count": 26
  },
  {
   "metadata": {
    "ExecuteTime": {
     "end_time": "2024-09-15T23:22:31.840171Z",
     "start_time": "2024-09-15T23:22:23.573357Z"
    }
   },
   "cell_type": "code",
   "source": [
    "result = speech_recognizer(dataset[:4][\"audio\"])\n",
    "print([d[\"text\"] for d in result])"
   ],
   "id": "552c7becf79cfd70",
   "outputs": [
    {
     "name": "stdout",
     "output_type": "stream",
     "text": [
      "['I WOULD LIKE TO SET UP A JOINT ACCOUNT WITH MY PARTNER HOW DO I PROCEED WITH DOING THAT', \"FONDERING HOW I'D SET UP A JOIN TO HELL T WITH MY WIFE AND WHERE THE AP MIGHT BE\", \"I I'D LIKE TOY SET UP A JOINT ACCOUNT WITH MY PARTNER I'M NOT SEEING THE OPTION TO DO IT ON THE APSO I CALLED IN TO GET SOME HELP CAN I JUST DO IT OVER THE PHONE WITH YOU AND GIVE YOU THE INFORMATION OR SHOULD I DO IT IN THE AP AN I'M MISSING SOMETHING UQUETTE HAD PREFERRED TO JUST DO IT OVER THE PHONE OF POSSIBLE THINGS\", 'HOW DO I FURN A JOINA COUT']\n"
     ]
    },
    {
     "name": "stderr",
     "output_type": "stream",
     "text": [
      "F:\\PyCharm\\Venv\\Lib\\site-packages\\transformers\\models\\wav2vec2\\modeling_wav2vec2.py:862: UserWarning: 1Torch was not compiled with flash attention. (Triggered internally at C:\\actions-runner\\_work\\pytorch\\pytorch\\builder\\windows\\pytorch\\aten\\src\\ATen\\native\\transformers\\cuda\\sdp_utils.cpp:555.)\n",
      "  attn_output = torch.nn.functional.scaled_dot_product_attention(\n"
     ]
    }
   ],
   "execution_count": 28
  },
  {
   "metadata": {
    "ExecuteTime": {
     "end_time": "2024-09-15T23:23:40.563538Z",
     "start_time": "2024-09-15T23:23:40.554248Z"
    }
   },
   "cell_type": "code",
   "source": "model_name = \"nlptown/bert-base-multilingual-uncased-sentiment\"",
   "id": "ea3bec88e52c0960",
   "outputs": [],
   "execution_count": 1
  },
  {
   "metadata": {
    "ExecuteTime": {
     "end_time": "2024-09-16T11:29:31.130419Z",
     "start_time": "2024-09-16T11:29:29.746388Z"
    }
   },
   "cell_type": "code",
   "source": [
    "from transformers import AutoTokenizer, AutoModelForSequenceClassification\n",
    "\n",
    "tokenizer = AutoTokenizer.from_pretrained(model_name)\n",
    "model = AutoModelForSequenceClassification.from_pretrained(model_name)\n",
    "\n",
    "classifier = pipeline(\"sentiment-analysis\", model=model, tokenizer=tokenizer, device=0)"
   ],
   "id": "5ab5cb01e63dbe86",
   "outputs": [],
   "execution_count": 16
  },
  {
   "metadata": {
    "ExecuteTime": {
     "end_time": "2024-09-16T11:29:33.871591Z",
     "start_time": "2024-09-16T11:29:33.845330Z"
    }
   },
   "cell_type": "code",
   "source": "classifier(\"Nous sommes très heureux de vous présenter la bibliothèque 🤗 Transformers.\")",
   "id": "6706e400ffbc8c13",
   "outputs": [
    {
     "data": {
      "text/plain": [
       "[{'label': '5 stars', 'score': 0.7272653579711914}]"
      ]
     },
     "execution_count": 17,
     "metadata": {},
     "output_type": "execute_result"
    }
   ],
   "execution_count": 17
  },
  {
   "metadata": {
    "ExecuteTime": {
     "end_time": "2024-09-15T23:26:53.101152Z",
     "start_time": "2024-09-15T23:26:53.098364Z"
    }
   },
   "cell_type": "code",
   "source": [
    "encoding = tokenizer(\"We are very happy to show you the 🤗 Transformers library.\")\n",
    "\n",
    "print(encoding)"
   ],
   "id": "d52d2ea79bd0ba0a",
   "outputs": [
    {
     "name": "stdout",
     "output_type": "stream",
     "text": [
      "{'input_ids': [101, 11312, 10320, 12495, 19308, 10114, 11391, 10855, 10103, 100, 58263, 13299, 119, 102], 'token_type_ids': [0, 0, 0, 0, 0, 0, 0, 0, 0, 0, 0, 0, 0, 0], 'attention_mask': [1, 1, 1, 1, 1, 1, 1, 1, 1, 1, 1, 1, 1, 1]}\n"
     ]
    }
   ],
   "execution_count": 10
  },
  {
   "metadata": {
    "ExecuteTime": {
     "end_time": "2024-09-16T11:29:52.107638Z",
     "start_time": "2024-09-16T11:29:52.104512Z"
    }
   },
   "cell_type": "code",
   "source": [
    "pt_batch = tokenizer([\"We are very happy to show you the 🤗 Transformers library.\",\n",
    "                      \"We hope you don't hate it.\"],\n",
    "                     padding=True,\n",
    "                     truncation=True,\n",
    "                     max_length=512,\n",
    "                     return_tensors=\"pt\")"
   ],
   "id": "4c6dc5d335d5b257",
   "outputs": [],
   "execution_count": 18
  },
  {
   "metadata": {
    "ExecuteTime": {
     "end_time": "2024-09-16T11:32:52.316440Z",
     "start_time": "2024-09-16T11:32:50.566295Z"
    }
   },
   "cell_type": "code",
   "source": "pt_model = AutoModelForSequenceClassification.from_pretrained(model_name)",
   "id": "13be9f5b2b41eb3d",
   "outputs": [],
   "execution_count": 24
  },
  {
   "metadata": {
    "ExecuteTime": {
     "end_time": "2024-09-16T11:32:52.764209Z",
     "start_time": "2024-09-16T11:32:52.723226Z"
    }
   },
   "cell_type": "code",
   "source": "pt_outputs = pt_model(**pt_batch)",
   "id": "e7331ace57c36bdc",
   "outputs": [],
   "execution_count": 25
  },
  {
   "metadata": {
    "ExecuteTime": {
     "end_time": "2024-09-16T11:33:33.852197Z",
     "start_time": "2024-09-16T11:33:33.842114Z"
    }
   },
   "cell_type": "code",
   "source": [
    "from torch.nn import functional as f\n",
    "\n",
    "pt_predictions = f.softmax(pt_outputs.logits, dim=-1)\n",
    "print(pt_predictions)"
   ],
   "id": "ee25137fb718ceb4",
   "outputs": [
    {
     "name": "stdout",
     "output_type": "stream",
     "text": [
      "tensor([[0.0021, 0.0018, 0.0115, 0.2121, 0.7725],\n",
      "        [0.2084, 0.1826, 0.1969, 0.1755, 0.2365]], grad_fn=<SoftmaxBackward0>)\n"
     ]
    }
   ],
   "execution_count": 26
  },
  {
   "metadata": {
    "ExecuteTime": {
     "end_time": "2024-09-16T11:37:04.670823Z",
     "start_time": "2024-09-16T11:37:03.144259Z"
    }
   },
   "cell_type": "code",
   "source": [
    "pt_save_directory = \"./pt_save_pretrained\"\n",
    "tokenizer.save_pretrained(pt_save_directory)\n",
    "pt_model.save_pretrained(pt_save_directory)"
   ],
   "id": "8e054f99bcbebb13",
   "outputs": [],
   "execution_count": 27
  },
  {
   "metadata": {
    "ExecuteTime": {
     "end_time": "2024-09-16T11:37:12.150923Z",
     "start_time": "2024-09-16T11:37:12.076304Z"
    }
   },
   "cell_type": "code",
   "source": "pt_model = AutoModelForSequenceClassification.from_pretrained(\"./pt_save_pretrained\")",
   "id": "5aebce7383951754",
   "outputs": [],
   "execution_count": 28
  },
  {
   "metadata": {
    "ExecuteTime": {
     "end_time": "2024-09-16T11:38:06.377019Z",
     "start_time": "2024-09-16T11:37:57.257356Z"
    }
   },
   "cell_type": "code",
   "source": [
    "from transformers import AutoConfig\n",
    "\n",
    "my_config = AutoConfig.from_pretrained(\"distilbert/distilbert-base-uncased\", n_heads=12)"
   ],
   "id": "451291cc8c8a9e76",
   "outputs": [],
   "execution_count": 29
  },
  {
   "metadata": {
    "ExecuteTime": {
     "end_time": "2024-09-16T11:38:09.541991Z",
     "start_time": "2024-09-16T11:38:08.805320Z"
    }
   },
   "cell_type": "code",
   "source": [
    "from transformers import AutoModel\n",
    "\n",
    "my_model = AutoModel.from_config(my_config)"
   ],
   "id": "f017ec5d52742763",
   "outputs": [],
   "execution_count": 30
  },
  {
   "metadata": {
    "ExecuteTime": {
     "end_time": "2024-09-16T11:39:05.431236Z",
     "start_time": "2024-09-16T11:38:34.914172Z"
    }
   },
   "cell_type": "code",
   "source": [
    "from transformers import AutoModelForSequenceClassification\n",
    "\n",
    "model = AutoModelForSequenceClassification.from_pretrained(\"distilbert/distilbert-base-uncased\")"
   ],
   "id": "addc021cb7e091a1",
   "outputs": [
    {
     "data": {
      "text/plain": [
       "model.safetensors:   0%|          | 0.00/268M [00:00<?, ?B/s]"
      ],
      "application/vnd.jupyter.widget-view+json": {
       "version_major": 2,
       "version_minor": 0,
       "model_id": "651082690e19402080a3f9f32a2b6f00"
      }
     },
     "metadata": {},
     "output_type": "display_data"
    },
    {
     "name": "stderr",
     "output_type": "stream",
     "text": [
      "F:\\PyCharm\\Venv\\Lib\\site-packages\\huggingface_hub\\file_download.py:159: UserWarning: `huggingface_hub` cache-system uses symlinks by default to efficiently store duplicated files but your machine does not support them in C:\\Users\\Xavie\\.cache\\huggingface\\hub\\models--distilbert--distilbert-base-uncased. Caching files will still work but in a degraded version that might require more space on your disk. This warning can be disabled by setting the `HF_HUB_DISABLE_SYMLINKS_WARNING` environment variable. For more details, see https://huggingface.co/docs/huggingface_hub/how-to-cache#limitations.\n",
      "To support symlinks on Windows, you either need to activate Developer Mode or to run Python as an administrator. In order to see activate developer mode, see this article: https://docs.microsoft.com/en-us/windows/apps/get-started/enable-your-device-for-development\n",
      "  warnings.warn(message)\n",
      "Some weights of DistilBertForSequenceClassification were not initialized from the model checkpoint at distilbert/distilbert-base-uncased and are newly initialized: ['classifier.bias', 'classifier.weight', 'pre_classifier.bias', 'pre_classifier.weight']\n",
      "You should probably TRAIN this model on a down-stream task to be able to use it for predictions and inference.\n"
     ]
    }
   ],
   "execution_count": 31
  },
  {
   "metadata": {
    "ExecuteTime": {
     "end_time": "2024-09-16T11:39:47.003903Z",
     "start_time": "2024-09-16T11:39:46.953282Z"
    }
   },
   "cell_type": "code",
   "source": [
    "from transformers import TrainingArguments\n",
    "\n",
    "training_args = TrainingArguments(output_dir=\"path/to/save/folder/\",\n",
    "                                  learning_rate=2e-5,\n",
    "                                  per_device_train_batch_size=8,\n",
    "                                  per_device_eval_batch_size=8,\n",
    "                                  num_train_epochs=2, )"
   ],
   "id": "768d30146822dda7",
   "outputs": [],
   "execution_count": 33
  },
  {
   "metadata": {
    "ExecuteTime": {
     "end_time": "2024-09-16T11:47:44.366550Z",
     "start_time": "2024-09-16T11:47:43.895756Z"
    }
   },
   "cell_type": "code",
   "source": "tokenizer = AutoTokenizer.from_pretrained(\"distilbert/distilbert-base-uncased\")",
   "id": "2426d46be730b71d",
   "outputs": [
    {
     "name": "stderr",
     "output_type": "stream",
     "text": [
      "F:\\PyCharm\\Venv\\Lib\\site-packages\\transformers\\tokenization_utils_base.py:1601: FutureWarning: `clean_up_tokenization_spaces` was not set. It will be set to `True` by default. This behavior will be depracted in transformers v4.45, and will be then set to `False` by default. For more details check this issue: https://github.com/huggingface/transformers/issues/31884\n",
      "  warnings.warn(\n"
     ]
    }
   ],
   "execution_count": 34
  },
  {
   "metadata": {
    "ExecuteTime": {
     "end_time": "2024-09-16T11:47:59.404928Z",
     "start_time": "2024-09-16T11:47:50.861926Z"
    }
   },
   "cell_type": "code",
   "source": [
    "from datasets import load_dataset\n",
    "\n",
    "dataset = load_dataset(\"rotten_tomatoes\")  # doctest: +IGNORE_RESULT"
   ],
   "id": "8bec827091cb3611",
   "outputs": [
    {
     "data": {
      "text/plain": [
       "README.md:   0%|          | 0.00/7.46k [00:00<?, ?B/s]"
      ],
      "application/vnd.jupyter.widget-view+json": {
       "version_major": 2,
       "version_minor": 0,
       "model_id": "6c25458951c1428183d417d02ffa4e8f"
      }
     },
     "metadata": {},
     "output_type": "display_data"
    },
    {
     "name": "stderr",
     "output_type": "stream",
     "text": [
      "F:\\PyCharm\\Venv\\Lib\\site-packages\\huggingface_hub\\file_download.py:159: UserWarning: `huggingface_hub` cache-system uses symlinks by default to efficiently store duplicated files but your machine does not support them in C:\\Users\\Xavie\\.cache\\huggingface\\hub\\datasets--rotten_tomatoes. Caching files will still work but in a degraded version that might require more space on your disk. This warning can be disabled by setting the `HF_HUB_DISABLE_SYMLINKS_WARNING` environment variable. For more details, see https://huggingface.co/docs/huggingface_hub/how-to-cache#limitations.\n",
      "To support symlinks on Windows, you either need to activate Developer Mode or to run Python as an administrator. In order to see activate developer mode, see this article: https://docs.microsoft.com/en-us/windows/apps/get-started/enable-your-device-for-development\n",
      "  warnings.warn(message)\n"
     ]
    }
   ],
   "execution_count": 35
  },
  {
   "metadata": {
    "ExecuteTime": {
     "end_time": "2024-09-16T11:54:27.858627Z",
     "start_time": "2024-09-16T11:54:27.854420Z"
    }
   },
   "cell_type": "code",
   "source": [
    "# 查看数据集的基本信息\n",
    "print(dataset)\n",
    "\n",
    "# 查看数据集的第一条样本\n",
    "print(dataset['train'][0])\n",
    "\n",
    "# 查看数据集中某个切分（比如训练集）的大小\n",
    "print(f\"训练集大小：{len(dataset['train'])}\")"
   ],
   "id": "55a99953aee9892b",
   "outputs": [
    {
     "name": "stdout",
     "output_type": "stream",
     "text": [
      "DatasetDict({\n",
      "    train: Dataset({\n",
      "        features: ['text', 'label'],\n",
      "        num_rows: 8530\n",
      "    })\n",
      "    validation: Dataset({\n",
      "        features: ['text', 'label'],\n",
      "        num_rows: 1066\n",
      "    })\n",
      "    test: Dataset({\n",
      "        features: ['text', 'label'],\n",
      "        num_rows: 1066\n",
      "    })\n",
      "})\n",
      "{'text': 'the rock is destined to be the 21st century\\'s new \" conan \" and that he\\'s going to make a splash even greater than arnold schwarzenegger , jean-claud van damme or steven segal .', 'label': 1}\n",
      "训练集大小：8530\n"
     ]
    }
   ],
   "execution_count": 47
  },
  {
   "metadata": {
    "ExecuteTime": {
     "end_time": "2024-09-16T12:02:57.867250Z",
     "start_time": "2024-09-16T12:02:57.043373Z"
    }
   },
   "cell_type": "code",
   "source": [
    "def tokenize_dataset(dataset):\n",
    "    return tokenizer(dataset[\"text\"])\n",
    "\n",
    "dataset = dataset.map(tokenize_dataset, batched=True)"
   ],
   "id": "3642191878d36612",
   "outputs": [
    {
     "data": {
      "text/plain": [
       "Map:   0%|          | 0/8530 [00:00<?, ? examples/s]"
      ],
      "application/vnd.jupyter.widget-view+json": {
       "version_major": 2,
       "version_minor": 0,
       "model_id": "a02b719ea4d0400fab1ae00de87aa54d"
      }
     },
     "metadata": {},
     "output_type": "display_data"
    },
    {
     "data": {
      "text/plain": [
       "Map:   0%|          | 0/1066 [00:00<?, ? examples/s]"
      ],
      "application/vnd.jupyter.widget-view+json": {
       "version_major": 2,
       "version_minor": 0,
       "model_id": "febca4212d324c8c811a6f3833aa1f9f"
      }
     },
     "metadata": {},
     "output_type": "display_data"
    },
    {
     "data": {
      "text/plain": [
       "Map:   0%|          | 0/1066 [00:00<?, ? examples/s]"
      ],
      "application/vnd.jupyter.widget-view+json": {
       "version_major": 2,
       "version_minor": 0,
       "model_id": "1d3bb3514dd543249c5122873c5e4144"
      }
     },
     "metadata": {},
     "output_type": "display_data"
    }
   ],
   "execution_count": 55
  },
  {
   "metadata": {
    "ExecuteTime": {
     "end_time": "2024-09-16T12:08:37.191148Z",
     "start_time": "2024-09-16T12:08:37.186796Z"
    }
   },
   "cell_type": "code",
   "source": [
    "from transformers import DataCollatorWithPadding\n",
    "\n",
    "data_collator = DataCollatorWithPadding(tokenizer=tokenizer)"
   ],
   "id": "a640a115a6ddcddb",
   "outputs": [],
   "execution_count": 56
  },
  {
   "metadata": {
    "ExecuteTime": {
     "end_time": "2024-09-16T12:11:32.355322Z",
     "start_time": "2024-09-16T12:11:31.651726Z"
    }
   },
   "cell_type": "code",
   "source": [
    "from transformers import Trainer\n",
    "\n",
    "trainer = Trainer(model=model,\n",
    "                  args=training_args,\n",
    "                  train_dataset=dataset[\"train\"],\n",
    "                  eval_dataset=dataset[\"test\"],\n",
    "                  tokenizer=tokenizer,\n",
    "                  data_collator=data_collator)  # doctest: +SKIP"
   ],
   "id": "f8d33cfa97d67657",
   "outputs": [],
   "execution_count": 57
  },
  {
   "metadata": {
    "ExecuteTime": {
     "end_time": "2024-09-16T12:13:46.896364Z",
     "start_time": "2024-09-16T12:11:35.643614Z"
    }
   },
   "cell_type": "code",
   "source": "trainer.train()",
   "id": "fb0c10e7242e3e2b",
   "outputs": [
    {
     "data": {
      "text/plain": [
       "<IPython.core.display.HTML object>"
      ],
      "text/html": [
       "\n",
       "    <div>\n",
       "      \n",
       "      <progress value='2134' max='2134' style='width:300px; height:20px; vertical-align: middle;'></progress>\n",
       "      [2134/2134 02:09, Epoch 2/2]\n",
       "    </div>\n",
       "    <table border=\"1\" class=\"dataframe\">\n",
       "  <thead>\n",
       " <tr style=\"text-align: left;\">\n",
       "      <th>Step</th>\n",
       "      <th>Training Loss</th>\n",
       "    </tr>\n",
       "  </thead>\n",
       "  <tbody>\n",
       "    <tr>\n",
       "      <td>500</td>\n",
       "      <td>0.443800</td>\n",
       "    </tr>\n",
       "    <tr>\n",
       "      <td>1000</td>\n",
       "      <td>0.392000</td>\n",
       "    </tr>\n",
       "    <tr>\n",
       "      <td>1500</td>\n",
       "      <td>0.260100</td>\n",
       "    </tr>\n",
       "    <tr>\n",
       "      <td>2000</td>\n",
       "      <td>0.270900</td>\n",
       "    </tr>\n",
       "  </tbody>\n",
       "</table><p>"
      ]
     },
     "metadata": {},
     "output_type": "display_data"
    },
    {
     "data": {
      "text/plain": [
       "TrainOutput(global_step=2134, training_loss=0.33506568436770096, metrics={'train_runtime': 130.6202, 'train_samples_per_second': 130.608, 'train_steps_per_second': 16.337, 'total_flos': 195974132394480.0, 'train_loss': 0.33506568436770096, 'epoch': 2.0})"
      ]
     },
     "execution_count": 58,
     "metadata": {},
     "output_type": "execute_result"
    }
   ],
   "execution_count": 58
  },
  {
   "metadata": {
    "ExecuteTime": {
     "end_time": "2024-09-16T12:14:55.967933Z",
     "start_time": "2024-09-16T12:14:54.468246Z"
    }
   },
   "cell_type": "code",
   "source": "trainer.evaluate()",
   "id": "97c517620b02e4d7",
   "outputs": [
    {
     "data": {
      "text/plain": [
       "<IPython.core.display.HTML object>"
      ],
      "text/html": [
       "\n",
       "    <div>\n",
       "      \n",
       "      <progress value='134' max='134' style='width:300px; height:20px; vertical-align: middle;'></progress>\n",
       "      [134/134 00:01]\n",
       "    </div>\n",
       "    "
      ]
     },
     "metadata": {},
     "output_type": "display_data"
    },
    {
     "data": {
      "text/plain": [
       "{'eval_loss': 0.5469068884849548,\n",
       " 'eval_runtime': 1.4901,\n",
       " 'eval_samples_per_second': 715.408,\n",
       " 'eval_steps_per_second': 89.929,\n",
       " 'epoch': 2.0}"
      ]
     },
     "execution_count": 59,
     "metadata": {},
     "output_type": "execute_result"
    }
   ],
   "execution_count": 59
  },
  {
   "metadata": {
    "ExecuteTime": {
     "end_time": "2024-09-16T12:23:04.496115Z",
     "start_time": "2024-09-16T12:23:04.489181Z"
    }
   },
   "cell_type": "code",
   "source": [
    "test_texts = [\"Fuck!\", \"Good!\"]\n",
    "inputs = tokenizer(test_texts, return_tensors=\"pt\", padding=True, truncation=True)\n",
    "model.to(torch.device(\"cpu\"))"
   ],
   "id": "1f2fdc3aa642f7b6",
   "outputs": [
    {
     "data": {
      "text/plain": [
       "DistilBertForSequenceClassification(\n",
       "  (distilbert): DistilBertModel(\n",
       "    (embeddings): Embeddings(\n",
       "      (word_embeddings): Embedding(30522, 768, padding_idx=0)\n",
       "      (position_embeddings): Embedding(512, 768)\n",
       "      (LayerNorm): LayerNorm((768,), eps=1e-12, elementwise_affine=True)\n",
       "      (dropout): Dropout(p=0.1, inplace=False)\n",
       "    )\n",
       "    (transformer): Transformer(\n",
       "      (layer): ModuleList(\n",
       "        (0-5): 6 x TransformerBlock(\n",
       "          (attention): MultiHeadSelfAttention(\n",
       "            (dropout): Dropout(p=0.1, inplace=False)\n",
       "            (q_lin): Linear(in_features=768, out_features=768, bias=True)\n",
       "            (k_lin): Linear(in_features=768, out_features=768, bias=True)\n",
       "            (v_lin): Linear(in_features=768, out_features=768, bias=True)\n",
       "            (out_lin): Linear(in_features=768, out_features=768, bias=True)\n",
       "          )\n",
       "          (sa_layer_norm): LayerNorm((768,), eps=1e-12, elementwise_affine=True)\n",
       "          (ffn): FFN(\n",
       "            (dropout): Dropout(p=0.1, inplace=False)\n",
       "            (lin1): Linear(in_features=768, out_features=3072, bias=True)\n",
       "            (lin2): Linear(in_features=3072, out_features=768, bias=True)\n",
       "            (activation): GELUActivation()\n",
       "          )\n",
       "          (output_layer_norm): LayerNorm((768,), eps=1e-12, elementwise_affine=True)\n",
       "        )\n",
       "      )\n",
       "    )\n",
       "  )\n",
       "  (pre_classifier): Linear(in_features=768, out_features=768, bias=True)\n",
       "  (classifier): Linear(in_features=768, out_features=2, bias=True)\n",
       "  (dropout): Dropout(p=0.2, inplace=False)\n",
       ")"
      ]
     },
     "execution_count": 77,
     "metadata": {},
     "output_type": "execute_result"
    }
   ],
   "execution_count": 77
  },
  {
   "metadata": {
    "ExecuteTime": {
     "end_time": "2024-09-16T12:23:05.587392Z",
     "start_time": "2024-09-16T12:23:05.562363Z"
    }
   },
   "cell_type": "code",
   "source": [
    "predictions = model(**inputs)\n",
    "result = f.softmax(predictions.logits, dim=-1)\n",
    "print(result)"
   ],
   "id": "2fe6cc7fb36f2208",
   "outputs": [
    {
     "name": "stdout",
     "output_type": "stream",
     "text": [
      "tensor([[0.9582, 0.0418],\n",
      "        [0.0098, 0.9902]], grad_fn=<SoftmaxBackward0>)\n"
     ]
    }
   ],
   "execution_count": 78
  },
  {
   "metadata": {
    "ExecuteTime": {
     "end_time": "2024-09-16T12:24:18.432919Z",
     "start_time": "2024-09-16T12:24:18.424091Z"
    }
   },
   "cell_type": "code",
   "source": "trainer.state.log_history",
   "id": "e1d882c29306f938",
   "outputs": [
    {
     "data": {
      "text/plain": [
       "[{'loss': 0.4438,\n",
       "  'grad_norm': 6.888044834136963,\n",
       "  'learning_rate': 1.5313964386129335e-05,\n",
       "  'epoch': 0.46860356138706655,\n",
       "  'step': 500},\n",
       " {'loss': 0.392,\n",
       "  'grad_norm': 3.0406222343444824,\n",
       "  'learning_rate': 1.0627928772258671e-05,\n",
       "  'epoch': 0.9372071227741331,\n",
       "  'step': 1000},\n",
       " {'loss': 0.2601,\n",
       "  'grad_norm': 3.0154197216033936,\n",
       "  'learning_rate': 5.941893158388004e-06,\n",
       "  'epoch': 1.4058106841611997,\n",
       "  'step': 1500},\n",
       " {'loss': 0.2709,\n",
       "  'grad_norm': 47.23124694824219,\n",
       "  'learning_rate': 1.2558575445173386e-06,\n",
       "  'epoch': 1.8744142455482662,\n",
       "  'step': 2000},\n",
       " {'train_runtime': 130.6202,\n",
       "  'train_samples_per_second': 130.608,\n",
       "  'train_steps_per_second': 16.337,\n",
       "  'total_flos': 195974132394480.0,\n",
       "  'train_loss': 0.33506568436770096,\n",
       "  'epoch': 2.0,\n",
       "  'step': 2134},\n",
       " {'eval_loss': 0.5469068884849548,\n",
       "  'eval_runtime': 1.4901,\n",
       "  'eval_samples_per_second': 715.408,\n",
       "  'eval_steps_per_second': 89.929,\n",
       "  'epoch': 2.0,\n",
       "  'step': 2134}]"
      ]
     },
     "execution_count": 80,
     "metadata": {},
     "output_type": "execute_result"
    }
   ],
   "execution_count": 80
  },
  {
   "metadata": {
    "ExecuteTime": {
     "end_time": "2024-09-16T12:23:52.197895Z",
     "start_time": "2024-09-16T12:23:51.663510Z"
    }
   },
   "cell_type": "code",
   "source": [
    "import matplotlib.pyplot as plt\n",
    "\n",
    "# 从训练日志中获取损失\n",
    "losses = [log[\"loss\"] for log in trainer.state.log_history if \"loss\" in log]\n",
    "\n",
    "# 绘制损失曲线\n",
    "plt.plot(losses)\n",
    "plt.xlabel(\"Steps\")\n",
    "plt.ylabel(\"Loss\")\n",
    "plt.title(\"Training Loss\")\n",
    "plt.show()\n"
   ],
   "id": "f5ca5951258d7061",
   "outputs": [
    {
     "data": {
      "text/plain": [
       "<Figure size 640x480 with 1 Axes>"
      ],
      "image/png": "[encoded data removed]"
     },
     "metadata": {},
     "output_type": "display_data"
    }
   ],
   "execution_count": 79
  }
 ],
 "metadata": {
  "kernelspec": {
   "display_name": "Python 3",
   "language": "python",
   "name": "python3"
  },
  "language_info": {
   "codemirror_mode": {
    "name": "ipython",
    "version": 2
   },
   "file_extension": ".py",
   "mimetype": "text/x-python",
   "name": "python",
   "nbconvert_exporter": "python",
   "pygments_lexer": "ipython2",
   "version": "2.7.6"
  }
 },
 "nbformat": 4,
 "nbformat_minor": 5
}
